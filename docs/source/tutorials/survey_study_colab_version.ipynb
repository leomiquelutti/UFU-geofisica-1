{
  "nbformat": 4,
  "nbformat_minor": 0,
  "metadata": {
    "colab": {
      "name": "survey-study-colab-version.ipynb",
      "provenance": [],
      "collapsed_sections": [],
      "toc_visible": true,
      "include_colab_link": true
    },
    "kernelspec": {
      "display_name": "Python 3 (ipykernel)",
      "language": "python",
      "name": "python3"
    },
    "language_info": {
      "codemirror_mode": {
        "name": "ipython",
        "version": 3
      },
      "file_extension": ".py",
      "mimetype": "text/x-python",
      "name": "python",
      "nbconvert_exporter": "python",
      "pygments_lexer": "ipython3",
      "version": "3.9.5"
    }
  },
  "cells": [
    {
      "cell_type": "markdown",
      "metadata": {
        "id": "view-in-github",
        "colab_type": "text"
      },
      "source": [
        "<a href=\"https://colab.research.google.com/github/leomiquelutti/UFU-geofisica-1/blob/master/docs/source/tutorials/survey_study_colab_version.ipynb\" target=\"_parent\"><img src=\"https://colab.research.google.com/assets/colab-badge.svg\" alt=\"Open In Colab\"/></a>"
      ]
    },
    {
      "cell_type": "markdown",
      "metadata": {
        "id": "iburFhms7uqT"
      },
      "source": [
        "# Survey Study: a tutorial\n",
        "\n",
        "This Jupyter notebook aims to help razorback users to compute impedance estimates from the data set shown in the paper in different ways for a two stage remote reference configuration:\n",
        "\n",
        "1- Ordinary Least Squares\n",
        "\n",
        "2- M-Estimator \n",
        "\n",
        "3- Bounded Influence \n",
        "\n",
        "This tutorial is designed for Metronix data format (.ats files).\n",
        "\n"
      ]
    },
    {
      "cell_type": "markdown",
      "metadata": {
        "id": "fHUczNHoQgvz"
      },
      "source": [
        "## Preparing the environment\n",
        "\n",
        "After you run the cell below, click on `RESTART RUNTIME` before moving in within the notebook. When you restart the runtime, you allow for the changes on the upgraded `matplotlib` package to take effect. "
      ]
    },
    {
      "cell_type": "code",
      "metadata": {
        "id": "jiZZkfgodONN",
        "colab": {
          "base_uri": "https://localhost:8080/",
          "height": 800
        },
        "outputId": "2966fcf4-b588-422d-d39f-36352160f180"
      },
      "source": [
        "!pip install razorback\n",
        "!pip install gitpython\n",
        "!pip install --upgrade matplotlib"
      ],
      "execution_count": 1,
      "outputs": [
        {
          "output_type": "stream",
          "text": [
            "Collecting razorback\n",
            "  Downloading razorback-0.3.1-py3-none-any.whl (41 kB)\n",
            "\u001b[?25l\r\u001b[K     |███████▉                        | 10 kB 23.0 MB/s eta 0:00:01\r\u001b[K     |███████████████▊                | 20 kB 30.2 MB/s eta 0:00:01\r\u001b[K     |███████████████████████▋        | 30 kB 34.9 MB/s eta 0:00:01\r\u001b[K     |███████████████████████████████▌| 40 kB 30.6 MB/s eta 0:00:01\r\u001b[K     |████████████████████████████████| 41 kB 509 kB/s \n",
            "\u001b[?25hRequirement already satisfied: dask[array] in /usr/local/lib/python3.7/dist-packages (from razorback) (2.12.0)\n",
            "Requirement already satisfied: scipy in /usr/local/lib/python3.7/dist-packages (from razorback) (1.4.1)\n",
            "Requirement already satisfied: numpy in /usr/local/lib/python3.7/dist-packages (from razorback) (1.19.5)\n",
            "Requirement already satisfied: toolz>=0.7.3 in /usr/local/lib/python3.7/dist-packages (from dask[array]->razorback) (0.11.1)\n",
            "Installing collected packages: razorback\n",
            "Successfully installed razorback-0.3.1\n",
            "Collecting gitpython\n",
            "  Downloading GitPython-3.1.18-py3-none-any.whl (170 kB)\n",
            "\u001b[K     |████████████████████████████████| 170 kB 12.5 MB/s \n",
            "\u001b[?25hCollecting gitdb<5,>=4.0.1\n",
            "  Downloading gitdb-4.0.7-py3-none-any.whl (63 kB)\n",
            "\u001b[K     |████████████████████████████████| 63 kB 1.9 MB/s \n",
            "\u001b[?25hRequirement already satisfied: typing-extensions>=3.7.4.0 in /usr/local/lib/python3.7/dist-packages (from gitpython) (3.7.4.3)\n",
            "Collecting smmap<5,>=3.0.1\n",
            "  Downloading smmap-4.0.0-py2.py3-none-any.whl (24 kB)\n",
            "Installing collected packages: smmap, gitdb, gitpython\n",
            "Successfully installed gitdb-4.0.7 gitpython-3.1.18 smmap-4.0.0\n",
            "Requirement already satisfied: matplotlib in /usr/local/lib/python3.7/dist-packages (3.2.2)\n",
            "Collecting matplotlib\n",
            "  Downloading matplotlib-3.4.3-cp37-cp37m-manylinux1_x86_64.whl (10.3 MB)\n",
            "\u001b[K     |████████████████████████████████| 10.3 MB 16.6 MB/s \n",
            "\u001b[?25hRequirement already satisfied: numpy>=1.16 in /usr/local/lib/python3.7/dist-packages (from matplotlib) (1.19.5)\n",
            "Requirement already satisfied: python-dateutil>=2.7 in /usr/local/lib/python3.7/dist-packages (from matplotlib) (2.8.2)\n",
            "Requirement already satisfied: pyparsing>=2.2.1 in /usr/local/lib/python3.7/dist-packages (from matplotlib) (2.4.7)\n",
            "Requirement already satisfied: kiwisolver>=1.0.1 in /usr/local/lib/python3.7/dist-packages (from matplotlib) (1.3.1)\n",
            "Requirement already satisfied: pillow>=6.2.0 in /usr/local/lib/python3.7/dist-packages (from matplotlib) (7.1.2)\n",
            "Requirement already satisfied: cycler>=0.10 in /usr/local/lib/python3.7/dist-packages (from matplotlib) (0.10.0)\n",
            "Requirement already satisfied: six in /usr/local/lib/python3.7/dist-packages (from cycler>=0.10->matplotlib) (1.15.0)\n",
            "Installing collected packages: matplotlib\n",
            "  Attempting uninstall: matplotlib\n",
            "    Found existing installation: matplotlib 3.2.2\n",
            "    Uninstalling matplotlib-3.2.2:\n",
            "      Successfully uninstalled matplotlib-3.2.2\n",
            "\u001b[31mERROR: pip's dependency resolver does not currently take into account all the packages that are installed. This behaviour is the source of the following dependency conflicts.\n",
            "albumentations 0.1.12 requires imgaug<0.2.7,>=0.2.5, but you have imgaug 0.2.9 which is incompatible.\u001b[0m\n",
            "Successfully installed matplotlib-3.4.3\n"
          ],
          "name": "stdout"
        },
        {
          "output_type": "display_data",
          "data": {
            "application/vnd.colab-display-data+json": {
              "pip_warning": {
                "packages": [
                  "matplotlib",
                  "mpl_toolkits"
                ]
              }
            }
          },
          "metadata": {
            "tags": []
          }
        }
      ]
    },
    {
      "cell_type": "markdown",
      "metadata": {
        "id": "6VnDfTcHWQI5"
      },
      "source": [
        "Now that you restarted the runtime, go to the next section to download the data."
      ]
    },
    {
      "cell_type": "markdown",
      "metadata": {
        "id": "G1LS6jOrQq-m"
      },
      "source": [
        "## Downloading the data\n",
        "\n",
        "The cells below both:\n",
        "* download the data to your environment\n",
        "* put the calibration files in the proper place"
      ]
    },
    {
      "cell_type": "code",
      "metadata": {
        "id": "uiUub745FuGi",
        "colab": {
          "base_uri": "https://localhost:8080/",
          "height": 415
        },
        "outputId": "c0a354ce-9562-41c2-a1f0-b6793dd5792a"
      },
      "source": [
        "# download the data\n",
        "import git\n",
        "git.Git(\"/content\").clone(\"git://github.com/BRGM/razorback-tutorial-data.git\")"
      ],
      "execution_count": 1,
      "outputs": [
        {
          "output_type": "error",
          "ename": "GitCommandError",
          "evalue": "ignored",
          "traceback": [
            "\u001b[0;31m---------------------------------------------------------------------------\u001b[0m",
            "\u001b[0;31mGitCommandError\u001b[0m                           Traceback (most recent call last)",
            "\u001b[0;32m<ipython-input-1-e5ca19b30fb3>\u001b[0m in \u001b[0;36m<module>\u001b[0;34m()\u001b[0m\n\u001b[1;32m      1\u001b[0m \u001b[0;31m# download the data\u001b[0m\u001b[0;34m\u001b[0m\u001b[0;34m\u001b[0m\u001b[0;34m\u001b[0m\u001b[0m\n\u001b[1;32m      2\u001b[0m \u001b[0;32mimport\u001b[0m \u001b[0mgit\u001b[0m\u001b[0;34m\u001b[0m\u001b[0;34m\u001b[0m\u001b[0m\n\u001b[0;32m----> 3\u001b[0;31m \u001b[0mgit\u001b[0m\u001b[0;34m.\u001b[0m\u001b[0mGit\u001b[0m\u001b[0;34m(\u001b[0m\u001b[0;34m\"/content\"\u001b[0m\u001b[0;34m)\u001b[0m\u001b[0;34m.\u001b[0m\u001b[0mclone\u001b[0m\u001b[0;34m(\u001b[0m\u001b[0;34m\"git://github.com/BRGM/razorback-tutorial-data.git\"\u001b[0m\u001b[0;34m)\u001b[0m\u001b[0;34m\u001b[0m\u001b[0;34m\u001b[0m\u001b[0m\n\u001b[0m",
            "\u001b[0;32m/usr/local/lib/python3.7/dist-packages/git/cmd.py\u001b[0m in \u001b[0;36m<lambda>\u001b[0;34m(*args, **kwargs)\u001b[0m\n\u001b[1;32m    583\u001b[0m         \u001b[0;32mif\u001b[0m \u001b[0mname\u001b[0m\u001b[0;34m[\u001b[0m\u001b[0;36m0\u001b[0m\u001b[0;34m]\u001b[0m \u001b[0;34m==\u001b[0m \u001b[0;34m'_'\u001b[0m\u001b[0;34m:\u001b[0m\u001b[0;34m\u001b[0m\u001b[0;34m\u001b[0m\u001b[0m\n\u001b[1;32m    584\u001b[0m             \u001b[0;32mreturn\u001b[0m \u001b[0mLazyMixin\u001b[0m\u001b[0;34m.\u001b[0m\u001b[0m__getattr__\u001b[0m\u001b[0;34m(\u001b[0m\u001b[0mself\u001b[0m\u001b[0;34m,\u001b[0m \u001b[0mname\u001b[0m\u001b[0;34m)\u001b[0m\u001b[0;34m\u001b[0m\u001b[0;34m\u001b[0m\u001b[0m\n\u001b[0;32m--> 585\u001b[0;31m         \u001b[0;32mreturn\u001b[0m \u001b[0;32mlambda\u001b[0m \u001b[0;34m*\u001b[0m\u001b[0margs\u001b[0m\u001b[0;34m,\u001b[0m \u001b[0;34m**\u001b[0m\u001b[0mkwargs\u001b[0m\u001b[0;34m:\u001b[0m \u001b[0mself\u001b[0m\u001b[0;34m.\u001b[0m\u001b[0m_call_process\u001b[0m\u001b[0;34m(\u001b[0m\u001b[0mname\u001b[0m\u001b[0;34m,\u001b[0m \u001b[0;34m*\u001b[0m\u001b[0margs\u001b[0m\u001b[0;34m,\u001b[0m \u001b[0;34m**\u001b[0m\u001b[0mkwargs\u001b[0m\u001b[0;34m)\u001b[0m\u001b[0;34m\u001b[0m\u001b[0;34m\u001b[0m\u001b[0m\n\u001b[0m\u001b[1;32m    586\u001b[0m \u001b[0;34m\u001b[0m\u001b[0m\n\u001b[1;32m    587\u001b[0m     \u001b[0;32mdef\u001b[0m \u001b[0mset_persistent_git_options\u001b[0m\u001b[0;34m(\u001b[0m\u001b[0mself\u001b[0m\u001b[0;34m,\u001b[0m \u001b[0;34m**\u001b[0m\u001b[0mkwargs\u001b[0m\u001b[0;34m:\u001b[0m \u001b[0mAny\u001b[0m\u001b[0;34m)\u001b[0m \u001b[0;34m->\u001b[0m \u001b[0;32mNone\u001b[0m\u001b[0;34m:\u001b[0m\u001b[0;34m\u001b[0m\u001b[0;34m\u001b[0m\u001b[0m\n",
            "\u001b[0;32m/usr/local/lib/python3.7/dist-packages/git/cmd.py\u001b[0m in \u001b[0;36m_call_process\u001b[0;34m(self, method, *args, **kwargs)\u001b[0m\n\u001b[1;32m   1122\u001b[0m         \u001b[0mcall\u001b[0m\u001b[0;34m.\u001b[0m\u001b[0mextend\u001b[0m\u001b[0;34m(\u001b[0m\u001b[0margs_list\u001b[0m\u001b[0;34m)\u001b[0m\u001b[0;34m\u001b[0m\u001b[0;34m\u001b[0m\u001b[0m\n\u001b[1;32m   1123\u001b[0m \u001b[0;34m\u001b[0m\u001b[0m\n\u001b[0;32m-> 1124\u001b[0;31m         \u001b[0;32mreturn\u001b[0m \u001b[0mself\u001b[0m\u001b[0;34m.\u001b[0m\u001b[0mexecute\u001b[0m\u001b[0;34m(\u001b[0m\u001b[0mcall\u001b[0m\u001b[0;34m,\u001b[0m \u001b[0;34m**\u001b[0m\u001b[0mexec_kwargs\u001b[0m\u001b[0;34m)\u001b[0m\u001b[0;34m\u001b[0m\u001b[0;34m\u001b[0m\u001b[0m\n\u001b[0m\u001b[1;32m   1125\u001b[0m \u001b[0;34m\u001b[0m\u001b[0m\n\u001b[1;32m   1126\u001b[0m     \u001b[0;32mdef\u001b[0m \u001b[0m_parse_object_header\u001b[0m\u001b[0;34m(\u001b[0m\u001b[0mself\u001b[0m\u001b[0;34m,\u001b[0m \u001b[0mheader_line\u001b[0m\u001b[0;34m:\u001b[0m \u001b[0mstr\u001b[0m\u001b[0;34m)\u001b[0m \u001b[0;34m->\u001b[0m \u001b[0mTuple\u001b[0m\u001b[0;34m[\u001b[0m\u001b[0mstr\u001b[0m\u001b[0;34m,\u001b[0m \u001b[0mstr\u001b[0m\u001b[0;34m,\u001b[0m \u001b[0mint\u001b[0m\u001b[0;34m]\u001b[0m\u001b[0;34m:\u001b[0m\u001b[0;34m\u001b[0m\u001b[0;34m\u001b[0m\u001b[0m\n",
            "\u001b[0;32m/usr/local/lib/python3.7/dist-packages/git/cmd.py\u001b[0m in \u001b[0;36mexecute\u001b[0;34m(self, command, istream, with_extended_output, with_exceptions, as_process, output_stream, stdout_as_string, kill_after_timeout, with_stdout, universal_newlines, shell, env, max_chunk_size, **subprocess_kwargs)\u001b[0m\n\u001b[1;32m    926\u001b[0m \u001b[0;34m\u001b[0m\u001b[0m\n\u001b[1;32m    927\u001b[0m         \u001b[0;32mif\u001b[0m \u001b[0mwith_exceptions\u001b[0m \u001b[0;32mand\u001b[0m \u001b[0mstatus\u001b[0m \u001b[0;34m!=\u001b[0m \u001b[0;36m0\u001b[0m\u001b[0;34m:\u001b[0m\u001b[0;34m\u001b[0m\u001b[0;34m\u001b[0m\u001b[0m\n\u001b[0;32m--> 928\u001b[0;31m             \u001b[0;32mraise\u001b[0m \u001b[0mGitCommandError\u001b[0m\u001b[0;34m(\u001b[0m\u001b[0mredacted_command\u001b[0m\u001b[0;34m,\u001b[0m \u001b[0mstatus\u001b[0m\u001b[0;34m,\u001b[0m \u001b[0mstderr_value\u001b[0m\u001b[0;34m,\u001b[0m \u001b[0mstdout_value\u001b[0m\u001b[0;34m)\u001b[0m\u001b[0;34m\u001b[0m\u001b[0;34m\u001b[0m\u001b[0m\n\u001b[0m\u001b[1;32m    929\u001b[0m \u001b[0;34m\u001b[0m\u001b[0m\n\u001b[1;32m    930\u001b[0m         \u001b[0;32mif\u001b[0m \u001b[0misinstance\u001b[0m\u001b[0;34m(\u001b[0m\u001b[0mstdout_value\u001b[0m\u001b[0;34m,\u001b[0m \u001b[0mbytes\u001b[0m\u001b[0;34m)\u001b[0m \u001b[0;32mand\u001b[0m \u001b[0mstdout_as_string\u001b[0m\u001b[0;34m:\u001b[0m  \u001b[0;31m# could also be output_stream\u001b[0m\u001b[0;34m\u001b[0m\u001b[0;34m\u001b[0m\u001b[0m\n",
            "\u001b[0;31mGitCommandError\u001b[0m: Cmd('git') failed due to: exit code(128)\n  cmdline: git clone git://github.com/BRGM/razorback-tutorial-data.git\n  stderr: 'fatal: destination path 'razorback-tutorial-data' already exists and is not an empty directory.'"
          ]
        }
      ]
    },
    {
      "cell_type": "code",
      "metadata": {
        "id": "8GUj2GiVciMQ",
        "colab": {
          "base_uri": "https://localhost:8080/"
        },
        "outputId": "97280405-1428-4142-cb24-ab86fd4141f9"
      },
      "source": [
        "# put a folder of the calibration files in the right place\n",
        "!mkdir /usr/local/lib/python3.7/dist-packages/razorback/data/\n",
        "!cp -r /content/razorback-tutorial-data/metronix_calibration /usr/local/lib/python3.7/dist-packages/razorback/data/"
      ],
      "execution_count": 2,
      "outputs": [
        {
          "output_type": "stream",
          "text": [
            "mkdir: cannot create directory ‘/usr/local/lib/python3.7/dist-packages/razorback/data/’: File exists\n"
          ],
          "name": "stdout"
        }
      ]
    },
    {
      "cell_type": "markdown",
      "metadata": {
        "id": "AwHgwBGJRo_w"
      },
      "source": [
        "## Data processing"
      ]
    },
    {
      "cell_type": "code",
      "metadata": {
        "id": "_oxiFgg37uqa"
      },
      "source": [
        "import razorback as rb # importing the razorback library\n",
        "import numpy as np # importing the numpy library as np\n",
        "import matplotlib.pyplot as plt # importing the matplotlib.pyplot library as plt\n",
        "import urllib.request\n",
        "import glob\n",
        "%matplotlib inline"
      ],
      "execution_count": 22,
      "outputs": []
    },
    {
      "cell_type": "code",
      "metadata": {
        "id": "xF_z8b1a7uqd"
      },
      "source": [
        "# function for getting sensor information from .ats file header\n",
        "def sensor(ats_file):\n",
        "    header = rb.io.ats.read_ats_header(ats_file) #razorback function for ats file data importation\n",
        "    chan = header['channel_type'].decode()\n",
        "    stype = ''.join(c for c in header['sensor_type'].decode() if c.isprintable())\n",
        "    snum = header['sensor_serial_number']\n",
        "    sampling_rate = header['sampling_rate']\n",
        "    x1, y1, z1 = header['x1'], header['y1'], header['z1']\n",
        "    x2, y2, z2 = header['x2'], header['y2'], header['z2']\n",
        "    L = ((x1-x2)**2 + (y1-y2)**2 + (z1-z2)**2)**.5\n",
        "    return chan, L, stype, snum, sampling_rate"
      ],
      "execution_count": 23,
      "outputs": []
    },
    {
      "cell_type": "code",
      "metadata": {
        "id": "dYxTjn0c7uqf"
      },
      "source": [
        "# function for getting calibration function from sensor information\n",
        "def calibration(ats_file, name_converter=None):\n",
        "    chan, L, stype, snum, sampling_rate = sensor(ats_file)\n",
        "    if chan in ('Ex', 'Ey'):\n",
        "        return L\n",
        "    elif chan in ('Hx', 'Hy', 'Hz'):\n",
        "        calib_name = f\"{stype}{snum:03d}.txt\"\n",
        "        if name_converter:\n",
        "            calib_name = name_converter.get(calib_name, calib_name)\n",
        "        return rb.calibrations.metronix(calib_name, sampling_rate)\n",
        "    raise Exception(f\"Unknown channel name: {chan}\")"
      ],
      "execution_count": 24,
      "outputs": []
    },
    {
      "cell_type": "markdown",
      "metadata": {
        "id": "H7XKo_947uqi"
      },
      "source": [
        "The functions `sensor()` and `calibration()` will help to load the metadata of the data set (electric dipoles length, orientation, calibration files...).\n",
        "\n",
        "Other strategies for handling these metadata could be used, it's up to you to design your own.\n"
      ]
    },
    {
      "cell_type": "code",
      "metadata": {
        "id": "MtH3SstgFH-T",
        "colab": {
          "base_uri": "https://localhost:8080/"
        },
        "outputId": "687b3b9b-e44e-4ebc-acef-0bb263f05bc1"
      },
      "source": [
        "## Create the inventory containing all the time series\n",
        "\n",
        "# - files is the list of data files to load\n",
        "# - pattern is applied to each data file to extract the strings {site} and {channel}\n",
        "# - tag_template create the tag for the data file using {site} and {channel}\n",
        "files = glob.glob(\"*/site*/*/*.ats\")\n",
        "pattern = \"**/site{site}/*/*_T{channel}_*.ats\"\n",
        "tag_template = \"site{site}_{channel}\"\n",
        "\n",
        "# correcting incorrect information about calibration files in file headers\n",
        "name_converter = {\n",
        "    'UNKN_H104.txt': 'MFS07104.txt',\n",
        "    'UNKN_H105.txt': 'MFS07105.txt',\n",
        "}\n",
        "files"
      ],
      "execution_count": 25,
      "outputs": [
        {
          "output_type": "execute_result",
          "data": {
            "text/plain": [
              "['razorback-tutorial-data/site100/meas_2016-04-28_19-00-00/415_V01_C03_R000_THy_BL_128H.ats',\n",
              " 'razorback-tutorial-data/site100/meas_2016-04-28_19-00-00/415_V01_C02_R000_THx_BL_128H.ats',\n",
              " 'razorback-tutorial-data/site002/meas_2016-04-28_08-20-00/236_V01_C02_R000_THx_BL_128H.ats',\n",
              " 'razorback-tutorial-data/site002/meas_2016-04-28_08-20-00/236_V01_C03_R000_THy_BL_128H.ats',\n",
              " 'razorback-tutorial-data/site002/meas_2016-04-28_08-20-00/236_V01_C00_R000_TEx_BL_128H.ats',\n",
              " 'razorback-tutorial-data/site002/meas_2016-04-28_08-20-00/236_V01_C01_R000_TEy_BL_128H.ats',\n",
              " 'razorback-tutorial-data/site002/meas_2016-04-28_08-20-00/236_V01_C04_R000_THz_BL_128H.ats',\n",
              " 'razorback-tutorial-data/site099/meas_2016-04-28_19-00-00/350_V01_C02_R000_THx_BL_128H.ats',\n",
              " 'razorback-tutorial-data/site099/meas_2016-04-28_19-00-00/350_V01_C03_R000_THy_BL_128H.ats',\n",
              " 'razorback-tutorial-data/site004/meas_2016-04-28_19-00-00/406_V01_C03_R000_THy_BL_128H.ats',\n",
              " 'razorback-tutorial-data/site004/meas_2016-04-28_19-00-00/406_V01_C01_R000_TEy_BL_128H.ats',\n",
              " 'razorback-tutorial-data/site004/meas_2016-04-28_19-00-00/406_V01_C04_R000_THz_BL_128H.ats',\n",
              " 'razorback-tutorial-data/site004/meas_2016-04-28_19-00-00/406_V01_C02_R000_THx_BL_128H.ats',\n",
              " 'razorback-tutorial-data/site004/meas_2016-04-28_19-00-00/406_V01_C00_R000_TEx_BL_128H.ats',\n",
              " 'razorback-tutorial-data/site009/meas_2016-04-28_19-00-00/439_V01_C03_R000_THy_BL_128H.ats',\n",
              " 'razorback-tutorial-data/site009/meas_2016-04-28_19-00-00/439_V01_C04_R000_THz_BL_128H.ats',\n",
              " 'razorback-tutorial-data/site009/meas_2016-04-28_19-00-00/439_V01_C02_R000_THx_BL_128H.ats',\n",
              " 'razorback-tutorial-data/site009/meas_2016-04-28_19-00-00/439_V01_C00_R000_TEx_BL_128H.ats',\n",
              " 'razorback-tutorial-data/site009/meas_2016-04-28_19-00-00/439_V01_C01_R000_TEy_BL_128H.ats',\n",
              " 'razorback-tutorial-data/site006/meas_2016-04-28_19-00-00/105_V01_C01_R000_TEy_BL_128H.ats',\n",
              " 'razorback-tutorial-data/site006/meas_2016-04-28_19-00-00/105_V01_C00_R000_TEx_BL_128H.ats',\n",
              " 'razorback-tutorial-data/site006/meas_2016-04-28_19-00-00/105_V01_C02_R000_THx_BL_128H.ats',\n",
              " 'razorback-tutorial-data/site006/meas_2016-04-28_19-00-00/105_V01_C04_R000_THz_BL_128H.ats',\n",
              " 'razorback-tutorial-data/site006/meas_2016-04-28_19-00-00/105_V01_C03_R000_THy_BL_128H.ats']"
            ]
          },
          "metadata": {
            "tags": []
          },
          "execution_count": 25
        }
      ]
    },
    {
      "cell_type": "code",
      "metadata": {
        "id": "2CfFH1Ln_tNK"
      },
      "source": [
        "# creating and filling the inventory\n",
        "inv = rb.Inventory()\n",
        "for fname, [tag] in rb.utils.tags_from_path(files, pattern, tag_template):\n",
        "    calib = calibration(fname, name_converter)  # getting calibration for data file\n",
        "    signal = rb.io.ats.load_ats([fname], [calib], lazy=True)  # loading data file\n",
        "    inv.append(rb.SignalSet({tag:0}, signal))  # tagging and storing the signal"
      ],
      "execution_count": 26,
      "outputs": []
    },
    {
      "cell_type": "markdown",
      "metadata": {
        "id": "oWP1arjG7uqp"
      },
      "source": [
        "All the data are now loaded in `inventory`.\n",
        "We can use `inventory` to explore and handle the data set."
      ]
    },
    {
      "cell_type": "markdown",
      "metadata": {
        "id": "RtQEhLby7uqq"
      },
      "source": [
        "You can check the number of files in your inventory `inv`:"
      ]
    },
    {
      "cell_type": "code",
      "metadata": {
        "id": "kurXP0hE7uqs",
        "colab": {
          "base_uri": "https://localhost:8080/"
        },
        "outputId": "bccb944d-99e2-4c57-938f-ba560fd60477"
      },
      "source": [
        "len(inv)"
      ],
      "execution_count": 27,
      "outputs": [
        {
          "output_type": "execute_result",
          "data": {
            "text/plain": [
              "24"
            ]
          },
          "metadata": {
            "tags": []
          },
          "execution_count": 27
        }
      ]
    },
    {
      "cell_type": "markdown",
      "metadata": {
        "id": "i45EgB6r7uqv"
      },
      "source": [
        "You can display the tags/labels included in the inventory `inv`"
      ]
    },
    {
      "cell_type": "code",
      "metadata": {
        "id": "bgP-qA4L7uqw",
        "colab": {
          "base_uri": "https://localhost:8080/"
        },
        "outputId": "e7fc6971-8946-45e3-aa33-9c06b61fba3a"
      },
      "source": [
        "inv.tags"
      ],
      "execution_count": 28,
      "outputs": [
        {
          "output_type": "execute_result",
          "data": {
            "text/plain": [
              "{'site002_Ex',\n",
              " 'site002_Ey',\n",
              " 'site002_Hx',\n",
              " 'site002_Hy',\n",
              " 'site002_Hz',\n",
              " 'site004_Ex',\n",
              " 'site004_Ey',\n",
              " 'site004_Hx',\n",
              " 'site004_Hy',\n",
              " 'site004_Hz',\n",
              " 'site006_Ex',\n",
              " 'site006_Ey',\n",
              " 'site006_Hx',\n",
              " 'site006_Hy',\n",
              " 'site006_Hz',\n",
              " 'site009_Ex',\n",
              " 'site009_Ey',\n",
              " 'site009_Hx',\n",
              " 'site009_Hy',\n",
              " 'site009_Hz',\n",
              " 'site099_Hx',\n",
              " 'site099_Hy',\n",
              " 'site100_Hx',\n",
              " 'site100_Hy'}"
            ]
          },
          "metadata": {
            "tags": []
          },
          "execution_count": 28
        }
      ]
    },
    {
      "cell_type": "markdown",
      "metadata": {
        "id": "vpYPoWlR7uqx"
      },
      "source": [
        "Creating (using `pack()`) and showing (using `print()`) the SignalSet object for site004 only:"
      ]
    },
    {
      "cell_type": "code",
      "metadata": {
        "id": "l0uBsHSS7uqx",
        "scrolled": true,
        "colab": {
          "base_uri": "https://localhost:8080/"
        },
        "outputId": "8c4f1650-9692-445c-8626-4ebbc72c2301"
      },
      "source": [
        "print(inv.filter('site004*').pack())"
      ],
      "execution_count": 29,
      "outputs": [
        {
          "output_type": "stream",
          "text": [
            "SignalSet: 5 channels, 1 run\n",
            "tags: {'site004_Ex': (0,), 'site004_Ey': (1,), \n",
            "       'site004_Hx': (2,), 'site004_Hy': (3,), \n",
            "       'site004_Hz': (4,)}\n",
            "----------  -------------------  -------------------\n",
            "  sampling                start                 stop\n",
            "       128  2016-04-28 19:00:00  2016-04-29 07:00:00\n",
            "----------  -------------------  -------------------\n"
          ],
          "name": "stdout"
        }
      ]
    },
    {
      "cell_type": "markdown",
      "metadata": {
        "id": "Q8Vb2xQ37uqy"
      },
      "source": [
        "Same operation for site099 (magnetic remote reference only):"
      ]
    },
    {
      "cell_type": "code",
      "metadata": {
        "id": "XfX8GvuH7uqz",
        "colab": {
          "base_uri": "https://localhost:8080/"
        },
        "outputId": "cf2dbaf7-8ce9-4031-ca4d-62425470c65e"
      },
      "source": [
        "print(inv.filter('site099*').pack())"
      ],
      "execution_count": 30,
      "outputs": [
        {
          "output_type": "stream",
          "text": [
            "SignalSet: 2 channels, 1 run\n",
            "tags: {'site099_Hx': (0,), 'site099_Hy': (1,)}\n",
            "----------  -------------------  -------------------\n",
            "  sampling                start                 stop\n",
            "       128  2016-04-28 19:00:00  2016-04-29 17:59:00\n",
            "----------  -------------------  -------------------\n"
          ],
          "name": "stdout"
        }
      ]
    },
    {
      "cell_type": "markdown",
      "metadata": {
        "id": "S1DOozs37uq4"
      },
      "source": [
        "Creating and showing the SignalSet object content for the full inventory (including sites 002, 004, 006, 009, 100, 099).\n",
        "The full data set is reduced to maximal synchronous time section. The `pack()` function is narrowing the time range to the window of common synchronousness of the whole inventory."
      ]
    },
    {
      "cell_type": "code",
      "metadata": {
        "id": "WXh0vP867uq6",
        "scrolled": true,
        "colab": {
          "base_uri": "https://localhost:8080/"
        },
        "outputId": "8adb25c8-5661-4b49-a806-634d1646a128"
      },
      "source": [
        "print(inv.pack())"
      ],
      "execution_count": 31,
      "outputs": [
        {
          "output_type": "stream",
          "text": [
            "SignalSet: 24 channels, 1 run\n",
            "tags: {'site002_Ex': (0,), 'site002_Ey': (1,), \n",
            "       'site002_Hx': (2,), 'site002_Hy': (3,), \n",
            "       'site002_Hz': (4,), 'site004_Ex': (5,), \n",
            "       'site004_Ey': (6,), 'site004_Hx': (7,), \n",
            "       'site004_Hy': (8,), 'site004_Hz': (9,), \n",
            "       'site006_Ex': (10,), 'site006_Ey': (11,), \n",
            "       'site006_Hx': (12,), 'site006_Hy': (13,), \n",
            "       'site006_Hz': (14,), 'site009_Ex': (15,), \n",
            "       'site009_Ey': (16,), 'site009_Hx': (17,), \n",
            "       'site009_Hy': (18,), 'site009_Hz': (19,), \n",
            "       'site099_Hx': (20,), 'site099_Hy': (21,), \n",
            "       'site100_Hx': (22,), 'site100_Hy': (23,)}\n",
            "----------  -------------------  -------------------\n",
            "  sampling                start                 stop\n",
            "       128  2016-04-28 19:00:00  2016-04-29 04:00:05\n",
            "----------  -------------------  -------------------\n"
          ],
          "name": "stdout"
        }
      ]
    },
    {
      "cell_type": "code",
      "metadata": {
        "id": "lFQDa_hT7uq7"
      },
      "source": [
        "# Function to prepare signal set from inventory to get it ready for TF estimation procedure\n",
        "from itertools import chain\n",
        "\n",
        "def prepare_signalset(inventory, local_site, remote_sites):\n",
        "    patterns = (f\"{e}*\" for e in [local_site, *remote_sites])\n",
        "    signalset = inventory.filter(*patterns).pack()\n",
        "    tags = signalset.tags\n",
        "    tags[\"E\"] = tags[f\"{local_site}_Ex\"] + tags[f\"{local_site}_Ey\"]\n",
        "    tags[\"B\"] = tags[f\"{local_site}_Hx\"] + tags[f\"{local_site}_Hy\"]\n",
        "    if remote_sites:\n",
        "        remote_names = tags.filter(*chain(*(\n",
        "            (f\"{e}_Hx\", f\"{e}_Hy\") for e in remote_sites\n",
        "        )))\n",
        "        tags[\"Bremote\"] = sum((tags[n] for n in remote_names), ())\n",
        "    return signalset"
      ],
      "execution_count": 32,
      "outputs": []
    },
    {
      "cell_type": "markdown",
      "metadata": {
        "id": "nP1dcZ7q7uq9"
      },
      "source": [
        "The function `prepare_signalset()` build the SignalSet needed for processing a given `local_site` along with some `remote_sites`.\n",
        "\n",
        "The function starts by extracting the channels of interest and `pack` them in a SignalSet.\n",
        "Then that signaset is enriched with specific tags (`'E'`, `'B'` and `'Bremote'`) that will be used later in the TF estimate function."
      ]
    },
    {
      "cell_type": "markdown",
      "metadata": {
        "id": "X6VD8pIF7uq_"
      },
      "source": [
        "Showing the SignalSet object with `'E'`, `'B'` and `'Bremote'` tags for processing site004 using sites 100 and 099 as remote references"
      ]
    },
    {
      "cell_type": "code",
      "metadata": {
        "id": "Mc0Kz8Ik7urA",
        "scrolled": true,
        "colab": {
          "base_uri": "https://localhost:8080/"
        },
        "outputId": "46048e52-015d-4f53-8393-440f0c2d029d"
      },
      "source": [
        "print(prepare_signalset(inv, 'site004', ['site100', 'site099']))"
      ],
      "execution_count": 33,
      "outputs": [
        {
          "output_type": "stream",
          "text": [
            "SignalSet: 9 channels, 1 run\n",
            "tags: {'site004_Ex': (0,), 'site004_Ey': (1,), \n",
            "       'site004_Hx': (2,), 'site004_Hy': (3,), \n",
            "       'site004_Hz': (4,), 'site099_Hx': (5,), \n",
            "       'site099_Hy': (6,), 'site100_Hx': (7,), \n",
            "       'site100_Hy': (8,), 'B': (2, 3), \n",
            "       'E': (0, 1), 'Bremote': (6, 5, 7, 8)}\n",
            "----------  -------------------  -------------------\n",
            "  sampling                start                 stop\n",
            "       128  2016-04-28 19:00:00  2016-04-29 07:00:00\n",
            "----------  -------------------  -------------------\n"
          ],
          "name": "stdout"
        }
      ]
    },
    {
      "cell_type": "markdown",
      "metadata": {
        "id": "Mu_pIqoC7urC"
      },
      "source": [
        "Defining a frequency array in logscale for TF computation"
      ]
    },
    {
      "cell_type": "code",
      "metadata": {
        "id": "7USAhiAQ7urD",
        "colab": {
          "base_uri": "https://localhost:8080/"
        },
        "outputId": "ca511255-acd3-4bdc-b969-29d3e5b90987"
      },
      "source": [
        "# Definining your output frequency in logscale / you can reduce nb_freq if you want to make a quick test\n",
        "# as sampling frequency is 128, we go up to half a nyquist frequency which is 32 Hz\n",
        "# recordings are long enough to try to reach 1 mHz\n",
        "nb_freq=32\n",
        "freq = np.logspace(-3, np.log10(32), nb_freq)\n",
        "print(freq)"
      ],
      "execution_count": 34,
      "outputs": [
        {
          "output_type": "stream",
          "text": [
            "[1.00000000e-03 1.39742149e-03 1.95278683e-03 2.72886629e-03\n",
            " 3.81337640e-03 5.32889414e-03 7.44671121e-03 1.04061943e-02\n",
            " 1.45418396e-02 2.03210792e-02 2.83971128e-02 3.96827358e-02\n",
            " 5.54535079e-02 7.74919238e-02 1.08288880e-01 1.51325208e-01\n",
            " 2.11465098e-01 2.95505873e-01 4.12946259e-01 5.77059977e-01\n",
            " 8.06396015e-01 1.12687512e+00 1.57471952e+00 2.20054690e+00\n",
            " 3.07509153e+00 4.29719900e+00 6.00499825e+00 8.39151362e+00\n",
            " 1.17264815e+01 1.63868373e+01 2.28993186e+01 3.20000000e+01]\n"
          ],
          "name": "stdout"
        }
      ]
    },
    {
      "cell_type": "markdown",
      "metadata": {
        "id": "VpgAVfJi7urF"
      },
      "source": [
        "### Computing two-stage OLS Impedance estimate for site004 with sites 100 and 99 as remote references "
      ]
    },
    {
      "cell_type": "markdown",
      "metadata": {
        "id": "8a5oT5rn7urG"
      },
      "source": [
        "First stage: a regression is performed to estimate the TF between magnetic field at site 4 and magnetic field at (sites 99 + 100) . Second Stage: the first stage TF is used to produce a synthetic magnetic field and a second regression is operated between the latter and site 4 electric field.  "
      ]
    },
    {
      "cell_type": "code",
      "metadata": {
        "id": "YkJUjaON7urH",
        "colab": {
          "base_uri": "https://localhost:8080/"
        },
        "outputId": "cd401548-7a6f-4df4-fddd-065121f4b1d9"
      },
      "source": [
        "sig = prepare_signalset(inv, 'site004', ['site100', 'site099'])\n",
        "print(sig)\n",
        "ImpOLS = rb.utils.impedance(sig, freq ,remote='Bremote' )\n",
        "print(ImpOLS.impedance.shape)"
      ],
      "execution_count": 16,
      "outputs": [
        {
          "output_type": "stream",
          "text": [
            "SignalSet: 9 channels, 1 run\n",
            "tags: {'site004_Ex': (0,), 'site004_Ey': (1,), \n",
            "       'site004_Hx': (2,), 'site004_Hy': (3,), \n",
            "       'site004_Hz': (4,), 'site099_Hx': (5,), \n",
            "       'site099_Hy': (6,), 'site100_Hx': (7,), \n",
            "       'site100_Hy': (8,), 'B': (2, 3), \n",
            "       'E': (0, 1), 'Bremote': (6, 5, 7, 8)}\n",
            "----------  -------------------  -------------------\n",
            "  sampling                start                 stop\n",
            "       128  2016-04-28 19:00:00  2016-04-29 07:00:00\n",
            "----------  -------------------  -------------------\n",
            "starting frequency 0.001\n",
            "starting frequency 0.00139742\n",
            "starting frequency 0.00195279\n",
            "starting frequency 0.00272887\n",
            "starting frequency 0.00381338\n",
            "starting frequency 0.00532889\n",
            "starting frequency 0.00744671\n",
            "starting frequency 0.0104062\n",
            "starting frequency 0.0145418\n",
            "starting frequency 0.0203211\n",
            "starting frequency 0.0283971\n",
            "starting frequency 0.0396827\n",
            "starting frequency 0.0554535\n",
            "starting frequency 0.0774919\n",
            "starting frequency 0.108289\n",
            "starting frequency 0.151325\n",
            "starting frequency 0.211465\n",
            "starting frequency 0.295506\n",
            "starting frequency 0.412946\n",
            "starting frequency 0.57706\n",
            "starting frequency 0.806396\n",
            "starting frequency 1.12688\n",
            "starting frequency 1.57472\n",
            "starting frequency 2.20055\n",
            "starting frequency 3.07509\n",
            "starting frequency 4.2972\n",
            "starting frequency 6.005\n",
            "starting frequency 8.39151\n",
            "starting frequency 11.7265\n",
            "starting frequency 16.3868\n",
            "starting frequency 22.8993\n",
            "starting frequency 32\n",
            "(32, 2, 2)\n"
          ],
          "name": "stdout"
        }
      ]
    },
    {
      "cell_type": "markdown",
      "metadata": {
        "id": "BN1KNosE7urI"
      },
      "source": [
        "Showing typical apparent resistivity and phase results using matplotlib"
      ]
    },
    {
      "cell_type": "code",
      "metadata": {
        "id": "d0EkUf6_7urI",
        "colab": {
          "base_uri": "https://localhost:8080/",
          "height": 386
        },
        "outputId": "d41a26eb-55a0-43a9-db90-d9853fff9013"
      },
      "source": [
        "res = ImpOLS\n",
        "rho = 1e12 * np.abs(res.impedance)**2 / freq[:, None, None]\n",
        "rho_err = 1e12 * np.abs(res.error)**2 / freq[:, None, None]\n",
        "phi = np.angle(res.impedance, deg=True)\n",
        "rad_err = np.arcsin(res.error/abs(res.impedance))\n",
        "rad_err[np.isnan(rad_err)] = np.pi\n",
        "phi_err = np.rad2deg(rad_err)\n",
        "\n",
        "fig = plt.figure()\n",
        "ax = plt.subplot(2, 1, 1)\n",
        "ax.set_xscale(\"log\", nonpositive='clip')\n",
        "ax.set_yscale(\"log\", nonpositive='clip')\n",
        "ax.errorbar(freq, rho[:,0,0], yerr=rho_err[:,0,0], fmt='k.', label=r'$\\rho_{xx}$')\n",
        "ax.errorbar(freq, rho[:,1,1], yerr=rho_err[:,1,1], fmt='g.', label=r'$\\rho_{yy}$')\n",
        "ax.errorbar(freq, rho[:,0,1], yerr=rho_err[:,0,1], fmt='r.', label=r'$\\rho_{xy}$')\n",
        "ax.errorbar(freq, rho[:,1,0], yerr=rho_err[:,1,0], fmt='b.', label=r'$\\rho_{yx}$')\n",
        "plt.xlabel('freq')\n",
        "plt.ylabel(r'apparent resistivity  $\\rho$ ($\\Omega.m$)');\n",
        "plt.legend()\n",
        "\n",
        "plt.title('Site 002 results in 2-stage RR OLS\\n  configuration with sites 99 and 100 as remote references')\n",
        "ax = plt.subplot(2, 1, 2)\n",
        "ax.set_xscale(\"log\", nonpositive='clip')\n",
        "ax.errorbar(freq, phi[:,0,0], yerr=phi_err[:,0,0], fmt='k.', label=r'$\\phi_{xx}$')\n",
        "ax.errorbar(freq, phi[:,1,1], yerr=phi_err[:,1,1], fmt='g.', label=r'$\\phi_{yy}$')\n",
        "ax.errorbar(freq, phi[:,0,1], yerr=phi_err[:,0,1], fmt='r.', label=r'$\\phi_{xy}$')\n",
        "ax.errorbar(freq, phi[:,1,0], yerr=phi_err[:,1,0], fmt='b.', label=r'$\\phi_{yx}$')\n",
        "plt.xlabel('freq')\n",
        "plt.ylabel(r'phase $\\phi$ (degrees)');\n",
        "plt.legend()\n",
        "plt.ylim(-180, 180)\n"
      ],
      "execution_count": 17,
      "outputs": [
        {
          "output_type": "stream",
          "text": [
            "/usr/local/lib/python3.7/dist-packages/ipykernel_launcher.py:5: RuntimeWarning: invalid value encountered in arcsin\n",
            "  \"\"\"\n"
          ],
          "name": "stderr"
        },
        {
          "output_type": "execute_result",
          "data": {
            "text/plain": [
              "(-180.0, 180.0)"
            ]
          },
          "metadata": {
            "tags": []
          },
          "execution_count": 17
        },
        {
          "output_type": "display_data",
          "data": {
            "image/png": "[encoded data removed]",
            "text/plain": [
              "<Figure size 432x288 with 2 Axes>"
            ]
          },
          "metadata": {
            "tags": [],
            "needs_background": "light"
          }
        }
      ]
    },
    {
      "cell_type": "markdown",
      "metadata": {
        "id": "dbFPFxRo7urL"
      },
      "source": [
        "### Now computing 2-stage M-Estimator Transfer Function for site004 with sites 100 and 99 as remote references "
      ]
    },
    {
      "cell_type": "code",
      "metadata": {
        "id": "iUHRzVfa7urM",
        "colab": {
          "base_uri": "https://localhost:8080/"
        },
        "outputId": "72b9d419-d345-4499-ff9d-3bc01f4d567b"
      },
      "source": [
        "from razorback.weights import mest_weights\n",
        "from razorback.prefilters import cod_filter\n",
        "\n",
        "sig = prepare_signalset(inv, 'site004', ['site100', 'site099'])\n",
        "print(sig)\n",
        "ImpME = rb.utils.impedance(\n",
        "    sig, freq,\n",
        "    weights= mest_weights,\n",
        "    remote='Bremote', # including the remotes references in the computation,\n",
        "    prefilter=cod_filter(0.0), # no coherency prefilter...\n",
        "    fourier_opts=dict( Nper= 8,  overlap= 0.71) # fourier options with 8 periods by window, and 71% of overlap\n",
        ")\n",
        "print(ImpME.impedance.shape)"
      ],
      "execution_count": 18,
      "outputs": [
        {
          "output_type": "stream",
          "text": [
            "SignalSet: 9 channels, 1 run\n",
            "tags: {'site004_Ex': (0,), 'site004_Ey': (1,), \n",
            "       'site004_Hx': (2,), 'site004_Hy': (3,), \n",
            "       'site004_Hz': (4,), 'site099_Hx': (5,), \n",
            "       'site099_Hy': (6,), 'site100_Hx': (7,), \n",
            "       'site100_Hy': (8,), 'B': (2, 3), \n",
            "       'E': (0, 1), 'Bremote': (6, 5, 7, 8)}\n",
            "----------  -------------------  -------------------\n",
            "  sampling                start                 stop\n",
            "       128  2016-04-28 19:00:00  2016-04-29 07:00:00\n",
            "----------  -------------------  -------------------\n",
            "starting frequency 0.001\n",
            "starting frequency 0.00139742\n",
            "failed to converge (maxit=100). while processing step 2 (weighting=1).\n",
            "starting frequency 0.00195279\n",
            "starting frequency 0.00272887\n",
            "starting frequency 0.00381338\n",
            "starting frequency 0.00532889\n",
            "starting frequency 0.00744671\n",
            "starting frequency 0.0104062\n",
            "starting frequency 0.0145418\n",
            "starting frequency 0.0203211\n",
            "starting frequency 0.0283971\n",
            "starting frequency 0.0396827\n",
            "starting frequency 0.0554535\n",
            "starting frequency 0.0774919\n",
            "starting frequency 0.108289\n",
            "starting frequency 0.151325\n",
            "starting frequency 0.211465\n",
            "starting frequency 0.295506\n",
            "starting frequency 0.412946\n",
            "starting frequency 0.57706\n",
            "starting frequency 0.806396\n",
            "starting frequency 1.12688\n",
            "starting frequency 1.57472\n",
            "starting frequency 2.20055\n",
            "starting frequency 3.07509\n",
            "starting frequency 4.2972\n",
            "starting frequency 6.005\n",
            "starting frequency 8.39151\n",
            "starting frequency 11.7265\n",
            "starting frequency 16.3868\n",
            "starting frequency 22.8993\n",
            "starting frequency 32\n",
            "(32, 2, 2)\n"
          ],
          "name": "stdout"
        }
      ]
    },
    {
      "cell_type": "code",
      "metadata": {
        "id": "w4C4PwK07urP",
        "colab": {
          "base_uri": "https://localhost:8080/",
          "height": 386
        },
        "outputId": "78042189-5b89-45c9-ea3c-1e8374ed0ab4"
      },
      "source": [
        "res = ImpME\n",
        "rho = 1e12 * np.abs(res.impedance)**2 / freq[:, None, None]\n",
        "rho_err = 1e12 * np.abs(res.error)**2 / freq[:, None, None]\n",
        "phi = np.angle(res.impedance, deg=True)\n",
        "rad_err = np.arcsin(res.error/abs(res.impedance))\n",
        "rad_err[np.isnan(rad_err)] = np.pi\n",
        "phi_err = np.rad2deg(rad_err)\n",
        "\n",
        "fig = plt.figure()\n",
        "ax = plt.subplot(2, 1, 1)\n",
        "ax.set_xscale(\"log\", nonpositive='clip')\n",
        "ax.set_yscale(\"log\", nonpositive='clip')\n",
        "ax.errorbar(freq, rho[:,0,0], yerr=rho_err[:,0,0], fmt='k.', label=r'$\\rho_{xx}$')\n",
        "ax.errorbar(freq, rho[:,1,1], yerr=rho_err[:,1,1], fmt='g.', label=r'$\\rho_{yy}$')\n",
        "ax.errorbar(freq, rho[:,0,1], yerr=rho_err[:,0,1], fmt='r.', label=r'$\\rho_{xy}$')\n",
        "ax.errorbar(freq, rho[:,1,0], yerr=rho_err[:,1,0], fmt='b.', label=r'$\\rho_{yx}$')\n",
        "plt.xlabel('freq')\n",
        "plt.ylabel(r'apparent resistivity  $\\rho$ ($\\Omega.m$)');\n",
        "plt.legend()\n",
        "\n",
        "plt.title('Site 002 results in 2-stage RR ME\\n  configuration with sites 99 and 100 as remote references')\n",
        "ax = plt.subplot(2, 1, 2)\n",
        "ax.set_xscale(\"log\", nonpositive='clip')\n",
        "ax.errorbar(freq, phi[:,0,0], yerr=phi_err[:,0,0], fmt='k.', label=r'$\\phi_{xx}$')\n",
        "ax.errorbar(freq, phi[:,1,1], yerr=phi_err[:,1,1], fmt='g.', label=r'$\\phi_{yy}$')\n",
        "ax.errorbar(freq, phi[:,0,1], yerr=phi_err[:,0,1], fmt='r.', label=r'$\\phi_{xy}$')\n",
        "ax.errorbar(freq, phi[:,1,0], yerr=phi_err[:,1,0], fmt='b.', label=r'$\\phi_{yx}$')\n",
        "plt.xlabel('freq')\n",
        "plt.ylabel(r'phase $\\phi$ (degrees)');\n",
        "plt.legend()\n",
        "plt.ylim(-180, 180)\n"
      ],
      "execution_count": 19,
      "outputs": [
        {
          "output_type": "stream",
          "text": [
            "/usr/local/lib/python3.7/dist-packages/ipykernel_launcher.py:5: RuntimeWarning: invalid value encountered in arcsin\n",
            "  \"\"\"\n"
          ],
          "name": "stderr"
        },
        {
          "output_type": "execute_result",
          "data": {
            "text/plain": [
              "(-180.0, 180.0)"
            ]
          },
          "metadata": {
            "tags": []
          },
          "execution_count": 19
        },
        {
          "output_type": "display_data",
          "data": {
            "image/png": "[encoded data removed]",
            "text/plain": [
              "<Figure size 432x288 with 2 Axes>"
            ]
          },
          "metadata": {
            "tags": [],
            "needs_background": "light"
          }
        }
      ]
    },
    {
      "cell_type": "markdown",
      "metadata": {
        "id": "ZpDxmrLd7urS"
      },
      "source": [
        "### Now computing 2-stage Bounded Influence Transfer Function for site004 with sites 100 and 99 as remote references for a rejection percentage of 1% and 3 bounded influence steps"
      ]
    },
    {
      "cell_type": "code",
      "metadata": {
        "id": "5KHwqLPp7urS",
        "colab": {
          "base_uri": "https://localhost:8080/"
        },
        "outputId": "2a2e1981-c327-4a83-c445-f024375b8fac"
      },
      "source": [
        "from razorback.weights import bi_weights\n",
        "from razorback.prefilters import cod_filter\n",
        "\n",
        "sig = prepare_signalset(inv, 'site004', ['site100', 'site099'])\n",
        "print(sig)\n",
        "ImpBI = rb.utils.impedance(\n",
        "    sig, freq,\n",
        "     weights= bi_weights(0.01, 3),  # bounded influence with reject probability of 1% and 3 steps\n",
        "    remote='Bremote', # including the remotes references in the computation,\n",
        "    prefilter=cod_filter(0.0), # prefilter: cod_filter(0.0)\n",
        "    fourier_opts=dict( Nper= 8,  overlap= 0.71) # fourier options with 8 periods by window, and 71% of overlap\n",
        ")\n",
        "print(ImpBI.impedance.shape)"
      ],
      "execution_count": 20,
      "outputs": [
        {
          "output_type": "stream",
          "text": [
            "SignalSet: 9 channels, 1 run\n",
            "tags: {'site004_Ex': (0,), 'site004_Ey': (1,), \n",
            "       'site004_Hx': (2,), 'site004_Hy': (3,), \n",
            "       'site004_Hz': (4,), 'site099_Hx': (5,), \n",
            "       'site099_Hy': (6,), 'site100_Hx': (7,), \n",
            "       'site100_Hy': (8,), 'B': (2, 3), \n",
            "       'E': (0, 1), 'Bremote': (6, 5, 7, 8)}\n",
            "----------  -------------------  -------------------\n",
            "  sampling                start                 stop\n",
            "       128  2016-04-28 19:00:00  2016-04-29 07:00:00\n",
            "----------  -------------------  -------------------\n",
            "starting frequency 0.001\n",
            "starting frequency 0.00139742\n",
            "failed to converge (maxit=100). while processing step 2 (weighting=1).\n",
            "starting frequency 0.00195279\n",
            "starting frequency 0.00272887\n",
            "starting frequency 0.00381338\n",
            "starting frequency 0.00532889\n",
            "starting frequency 0.00744671\n",
            "starting frequency 0.0104062\n",
            "starting frequency 0.0145418\n",
            "starting frequency 0.0203211\n",
            "starting frequency 0.0283971\n",
            "starting frequency 0.0396827\n",
            "starting frequency 0.0554535\n",
            "starting frequency 0.0774919\n",
            "starting frequency 0.108289\n",
            "starting frequency 0.151325\n",
            "starting frequency 0.211465\n",
            "starting frequency 0.295506\n",
            "failed to converge (maxit=100). while processing step 4 (weighting=1).\n",
            "starting frequency 0.412946\n",
            "starting frequency 0.57706\n",
            "starting frequency 0.806396\n",
            "starting frequency 1.12688\n",
            "starting frequency 1.57472\n",
            "starting frequency 2.20055\n",
            "starting frequency 3.07509\n",
            "starting frequency 4.2972\n",
            "starting frequency 6.005\n",
            "starting frequency 8.39151\n",
            "starting frequency 11.7265\n",
            "starting frequency 16.3868\n",
            "starting frequency 22.8993\n",
            "starting frequency 32\n",
            "(32, 2, 2)\n"
          ],
          "name": "stdout"
        }
      ]
    },
    {
      "cell_type": "code",
      "metadata": {
        "id": "9-KGOX7s7urU",
        "colab": {
          "base_uri": "https://localhost:8080/",
          "height": 386
        },
        "outputId": "2811791b-7dfc-45fc-ca64-81db81485664"
      },
      "source": [
        "res = ImpBI\n",
        "rho = 1e12 * np.abs(res.impedance)**2 / freq[:, None, None]\n",
        "rho_err = 1e12 * np.abs(res.error)**2 / freq[:, None, None]\n",
        "phi = np.angle(res.impedance, deg=True)\n",
        "rad_err = np.arcsin(res.error/abs(res.impedance))\n",
        "rad_err[np.isnan(rad_err)] = np.pi\n",
        "phi_err = np.rad2deg(rad_err)\n",
        "\n",
        "fig = plt.figure()\n",
        "ax = plt.subplot(2, 1, 1)\n",
        "ax.set_xscale(\"log\", nonpositive='clip')\n",
        "ax.set_yscale(\"log\", nonpositive='clip')\n",
        "ax.errorbar(freq, rho[:,0,0], yerr=rho_err[:,0,0], fmt='k.', label=r'$\\rho_{xx}$')\n",
        "ax.errorbar(freq, rho[:,1,1], yerr=rho_err[:,1,1], fmt='g.', label=r'$\\rho_{yy}$')\n",
        "ax.errorbar(freq, rho[:,0,1], yerr=rho_err[:,0,1], fmt='r.', label=r'$\\rho_{xy}$')\n",
        "ax.errorbar(freq, rho[:,1,0], yerr=rho_err[:,1,0], fmt='b.', label=r'$\\rho_{yx}$')\n",
        "plt.xlabel('freq')\n",
        "plt.ylabel(r'apparent resistivity  $\\rho$ ($\\Omega.m$)');\n",
        "plt.legend()\n",
        "\n",
        "plt.title('Site 002 results in 2-stage RR BOUNDED INFLUENCE \\n  configuration with sites 99 and 100 as remote references')\n",
        "ax = plt.subplot(2, 1, 2)\n",
        "ax.set_xscale(\"log\", nonpositive='clip')\n",
        "ax.errorbar(freq, phi[:,0,0], yerr=phi_err[:,0,0], fmt='k.', label=r'$\\phi_{xx}$')\n",
        "ax.errorbar(freq, phi[:,1,1], yerr=phi_err[:,1,1], fmt='g.', label=r'$\\phi_{yy}$')\n",
        "ax.errorbar(freq, phi[:,0,1], yerr=phi_err[:,0,1], fmt='r.', label=r'$\\phi_{xy}$')\n",
        "ax.errorbar(freq, phi[:,1,0], yerr=phi_err[:,1,0], fmt='b.', label=r'$\\phi_{yx}$')\n",
        "plt.xlabel('freq')\n",
        "plt.ylabel(r'phase $\\phi$ (degrees)');\n",
        "plt.legend()\n",
        "plt.ylim(-180, 180)"
      ],
      "execution_count": 21,
      "outputs": [
        {
          "output_type": "stream",
          "text": [
            "/usr/local/lib/python3.7/dist-packages/ipykernel_launcher.py:5: RuntimeWarning: invalid value encountered in arcsin\n",
            "  \"\"\"\n"
          ],
          "name": "stderr"
        },
        {
          "output_type": "execute_result",
          "data": {
            "text/plain": [
              "(-180.0, 180.0)"
            ]
          },
          "metadata": {
            "tags": []
          },
          "execution_count": 21
        },
        {
          "output_type": "display_data",
          "data": {
            "image/png": "[encoded data removed]",
            "text/plain": [
              "<Figure size 432x288 with 2 Axes>"
            ]
          },
          "metadata": {
            "tags": [],
            "needs_background": "light"
          }
        }
      ]
    }
  ]
}